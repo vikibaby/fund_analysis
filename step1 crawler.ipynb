{
 "cells": [
  {
   "cell_type": "code",
   "execution_count": 1,
   "metadata": {},
   "outputs": [],
   "source": [
    "import requests\n",
    "import re\n",
    "import numpy as np\n",
    "import pandas as pd\n",
    "import matplotlib.pyplot as plt\n",
    "from bs4 import BeautifulSoup"
   ]
  },
  {
   "cell_type": "markdown",
   "metadata": {},
   "source": [
    "### get_html\n",
    "\n",
    "\n",
    "eg: http://fund.eastmoney.com/f10/F10DataApi.aspx?type=lsjz&code=050026&page=1&sdate=2020-01-01&edate=2020-03-01&per=20\n",
    "\n",
    "type：lsjz表示历史净值\n",
    "\n",
    "code：表示基金代码，如050026表示博时医疗保健行业混合\n",
    "\n",
    "page：表示获取的数据的页码\n",
    "\n",
    "per：表示获取的数据每页显示的条数\n",
    "\n",
    "sdate：表示开始时间\n",
    "\n",
    "edate：表示结束时间\n"
   ]
  },
  {
   "cell_type": "code",
   "execution_count": 2,
   "metadata": {},
   "outputs": [],
   "source": [
    "def get_html(code, start_date, end_date, page=1, per=20):\n",
    "    url = 'http://fund.eastmoney.com/f10/F10DataApi.aspx?type=lsjz&code={0}&page={1}&sdate={2}&edate={3}&per={4}'.format(\n",
    "        code, page, start_date, end_date, per)\n",
    "    rsp = requests.get(url)\n",
    "    html = rsp.text\n",
    "    return html\n",
    "\n",
    "def get_fund(code, start_date, end_date, page=1, per=20):\n",
    "    html = get_html(code, start_date, end_date, page, per)\n",
    "    soup = BeautifulSoup(html, 'html.parser')\n",
    "    \n",
    "    # 获取总页数\n",
    "    pattern = re.compile('pages:(.*),')\n",
    "    result = re.search(pattern, html).group(1)\n",
    "    total_page = int(result)\n",
    "    print(\"Total pages:\", total_page)\n",
    "    \n",
    "    # 获取表头信息\n",
    "    heads = []\n",
    "    for head in soup.findAll(\"th\"):\n",
    "        heads.append(head.contents[0])\n",
    "        \n",
    "    # 数据存取列表\n",
    "    records = []\n",
    "    # 获取每一页的数据\n",
    "    current_page = 1\n",
    "    while current_page <= total_page:\n",
    "        html = get_html(code, start_date, end_date, current_page, per)\n",
    "        soup = BeautifulSoup(html, 'html.parser')\n",
    "        # 获取数据\n",
    "        for row in soup.findAll(\"tbody\")[0].findAll(\"tr\"):\n",
    "            row_records = []\n",
    "            for record in row.findAll('td'):\n",
    "                val = record.contents\n",
    "                # 处理空值\n",
    "                if val == []:\n",
    "                    row_records.append(np.nan)\n",
    "                else:\n",
    "                    row_records.append(val[0])\n",
    "            # 记录数据\n",
    "            records.append(row_records)\n",
    "        # 下一页\n",
    "        current_page = current_page + 1\n",
    "    \n",
    "    # 将数据转换为Dataframe对象\n",
    "    np_records = np.array(records)\n",
    "    fund_df = pd.DataFrame()\n",
    "    for col, col_name in enumerate(heads):\n",
    "        fund_df[col_name] = np_records[:, col]\n",
    "    # 按照日期排序\n",
    "    fund_df['净值日期'] = pd.to_datetime(fund_df['净值日期'], format='%Y/%m/%d')\n",
    "    fund_df = fund_df.sort_values(by='净值日期', axis=0, ascending=True).reset_index(drop=True)\n",
    "    fund_df = fund_df.set_index('净值日期')\n",
    "    # 数据类型处理\n",
    "    fund_df['单位净值'] = fund_df['单位净值'].astype(float)\n",
    "    fund_df['累计净值'] = fund_df['累计净值'].astype(float)\n",
    "    fund_df['日增长率'] = fund_df['日增长率'].str.strip('%').astype(float)\n",
    "    \n",
    "    return fund_df"
   ]
  },
  {
   "cell_type": "code",
   "execution_count": 8,
   "metadata": {},
   "outputs": [],
   "source": [
    "def english_fund_df(fund_df):\n",
    "    fund_df.index.name = \"date\"\n",
    "    fund_df.rename(columns = {'单位净值':'unit_net_value',\n",
    "                          '累计净值':'cum_net_value',\n",
    "                          '日增长率':'daily_return',\n",
    "                          '申购状态':'subscription_status',\n",
    "                          '赎回状态':'redemption_status', \n",
    "                          '分红送配':\"dividend\" },inplace=True)\n",
    "    fund_df['redemption_status'].replace('开放赎回',bool(1),inplace = True)\n",
    "    fund_df['redemption_status'].replace('封闭期',bool(0),inplace = True)\n",
    "    fund_df['subscription_status'].replace('开放申购',bool(1),inplace = True)\n",
    "    fund_df['subscription_status'].replace('封闭期',bool(0),inplace = True)\n",
    "    fund_df.to_csv(\"net_value_fund\"+str(code)+\"_\"+start_date+\".csv\")\n",
    "    return fund_df"
   ]
  },
  {
   "cell_type": "code",
   "execution_count": 11,
   "metadata": {},
   "outputs": [
    {
     "name": "stdout",
     "output_type": "stream",
     "text": [
      "Total pages: 11\n"
     ]
    }
   ],
   "source": [
    "code = \"000404\"\n",
    "start_date= \"2019-09-30\" #9.30,12.30,3.30,6.30\n",
    "end_date =  \"2020-08-24\"\n",
    "fund_df = get_fund(code, start_date, end_date, page=1, per=20)"
   ]
  },
  {
   "cell_type": "code",
   "execution_count": 12,
   "metadata": {},
   "outputs": [],
   "source": [
    "fund_df = english_fund_df(fund_df)"
   ]
  },
  {
   "cell_type": "code",
   "execution_count": 13,
   "metadata": {},
   "outputs": [
    {
     "data": {
      "text/plain": [
       "unit_net_value         float64\n",
       "cum_net_value          float64\n",
       "daily_return           float64\n",
       "subscription_status       bool\n",
       "redemption_status         bool\n",
       "dividend                object\n",
       "dtype: object"
      ]
     },
     "execution_count": 13,
     "metadata": {},
     "output_type": "execute_result"
    }
   ],
   "source": [
    "fund_df.dtypes"
   ]
  },
  {
   "cell_type": "code",
   "execution_count": null,
   "metadata": {},
   "outputs": [],
   "source": []
  }
 ],
 "metadata": {
  "kernelspec": {
   "display_name": "Python 3",
   "language": "python",
   "name": "python3"
  },
  "language_info": {
   "codemirror_mode": {
    "name": "ipython",
    "version": 3
   },
   "file_extension": ".py",
   "mimetype": "text/x-python",
   "name": "python",
   "nbconvert_exporter": "python",
   "pygments_lexer": "ipython3",
   "version": "3.7.6"
  }
 },
 "nbformat": 4,
 "nbformat_minor": 4
}
