{
 "cells": [
  {
   "cell_type": "code",
   "execution_count": 1,
   "metadata": {},
   "outputs": [],
   "source": [
    "import pandas as pd\n",
    "import baostock as bs\n",
    "import function_book as f\n",
    "import matplotlib.pyplot as plt\n",
    "import numpy as np\n",
    "from sklearn import datasets, linear_model\n",
    "import cmath \n",
    "import csv"
   ]
  },
  {
   "cell_type": "code",
   "execution_count": 2,
   "metadata": {},
   "outputs": [],
   "source": [
    "fundid = 'fund000404'\n",
    "report_date_list = ['2019-09-30','2019-12-31','2020-03-31','2020-06-30','2020-08-24']\n",
    "net_value_fund_filename = \"net_value_\"+str(fundid)+\"_\"+report_date_list[0]+\".csv\"\n",
    "fund_value = pd.read_csv(net_value_fund_filename)\n",
    "fund_value.set_index(keys = 'date',inplace=True)\n",
    "hs300 = pd.read_csv(\"hs300_2018-01-01.csv\")\n",
    "hs300.set_index(keys = 'date',inplace=True)"
   ]
  },
  {
   "cell_type": "code",
   "execution_count": 4,
   "metadata": {},
   "outputs": [
    {
     "data": {
      "text/html": [
       "<div>\n",
       "<style scoped>\n",
       "    .dataframe tbody tr th:only-of-type {\n",
       "        vertical-align: middle;\n",
       "    }\n",
       "\n",
       "    .dataframe tbody tr th {\n",
       "        vertical-align: top;\n",
       "    }\n",
       "\n",
       "    .dataframe thead th {\n",
       "        text-align: right;\n",
       "    }\n",
       "</style>\n",
       "<table border=\"1\" class=\"dataframe\">\n",
       "  <thead>\n",
       "    <tr style=\"text-align: right;\">\n",
       "      <th></th>\n",
       "      <th>unit_net_value</th>\n",
       "      <th>cum_net_value</th>\n",
       "      <th>daily_return</th>\n",
       "      <th>subscription_status</th>\n",
       "      <th>redemption_status</th>\n",
       "      <th>dividend</th>\n",
       "    </tr>\n",
       "    <tr>\n",
       "      <th>date</th>\n",
       "      <th></th>\n",
       "      <th></th>\n",
       "      <th></th>\n",
       "      <th></th>\n",
       "      <th></th>\n",
       "      <th></th>\n",
       "    </tr>\n",
       "  </thead>\n",
       "  <tbody>\n",
       "    <tr>\n",
       "      <th>2019-09-30</th>\n",
       "      <td>2.408</td>\n",
       "      <td>2.408</td>\n",
       "      <td>-1.27</td>\n",
       "      <td>True</td>\n",
       "      <td>True</td>\n",
       "      <td>NaN</td>\n",
       "    </tr>\n",
       "    <tr>\n",
       "      <th>2019-10-08</th>\n",
       "      <td>2.357</td>\n",
       "      <td>2.357</td>\n",
       "      <td>-2.12</td>\n",
       "      <td>True</td>\n",
       "      <td>True</td>\n",
       "      <td>NaN</td>\n",
       "    </tr>\n",
       "    <tr>\n",
       "      <th>2019-10-09</th>\n",
       "      <td>2.381</td>\n",
       "      <td>2.381</td>\n",
       "      <td>1.02</td>\n",
       "      <td>True</td>\n",
       "      <td>True</td>\n",
       "      <td>NaN</td>\n",
       "    </tr>\n",
       "  </tbody>\n",
       "</table>\n",
       "</div>"
      ],
      "text/plain": [
       "            unit_net_value  cum_net_value  daily_return  subscription_status  \\\n",
       "date                                                                           \n",
       "2019-09-30           2.408          2.408         -1.27                 True   \n",
       "2019-10-08           2.357          2.357         -2.12                 True   \n",
       "2019-10-09           2.381          2.381          1.02                 True   \n",
       "\n",
       "            redemption_status  dividend  \n",
       "date                                     \n",
       "2019-09-30               True       NaN  \n",
       "2019-10-08               True       NaN  \n",
       "2019-10-09               True       NaN  "
      ]
     },
     "execution_count": 4,
     "metadata": {},
     "output_type": "execute_result"
    }
   ],
   "source": [
    "fund_value.head(3)"
   ]
  },
  {
   "cell_type": "code",
   "execution_count": 5,
   "metadata": {},
   "outputs": [
    {
     "data": {
      "text/html": [
       "<div>\n",
       "<style scoped>\n",
       "    .dataframe tbody tr th:only-of-type {\n",
       "        vertical-align: middle;\n",
       "    }\n",
       "\n",
       "    .dataframe tbody tr th {\n",
       "        vertical-align: top;\n",
       "    }\n",
       "\n",
       "    .dataframe thead th {\n",
       "        text-align: right;\n",
       "    }\n",
       "</style>\n",
       "<table border=\"1\" class=\"dataframe\">\n",
       "  <thead>\n",
       "    <tr style=\"text-align: right;\">\n",
       "      <th></th>\n",
       "      <th>sh.000300</th>\n",
       "    </tr>\n",
       "    <tr>\n",
       "      <th>date</th>\n",
       "      <th></th>\n",
       "    </tr>\n",
       "  </thead>\n",
       "  <tbody>\n",
       "    <tr>\n",
       "      <th>2018-01-02</th>\n",
       "      <td>4087.401</td>\n",
       "    </tr>\n",
       "    <tr>\n",
       "      <th>2018-01-03</th>\n",
       "      <td>4111.392</td>\n",
       "    </tr>\n",
       "    <tr>\n",
       "      <th>2018-01-04</th>\n",
       "      <td>4128.811</td>\n",
       "    </tr>\n",
       "  </tbody>\n",
       "</table>\n",
       "</div>"
      ],
      "text/plain": [
       "            sh.000300\n",
       "date                 \n",
       "2018-01-02   4087.401\n",
       "2018-01-03   4111.392\n",
       "2018-01-04   4128.811"
      ]
     },
     "execution_count": 5,
     "metadata": {},
     "output_type": "execute_result"
    }
   ],
   "source": [
    "hs300.head(3)"
   ]
  },
  {
   "cell_type": "code",
   "execution_count": null,
   "metadata": {},
   "outputs": [],
   "source": [
    "# generate file for regression\n",
    "#(\"reg_\"+filename+'.csv',index = True ,index_label = 'date')\n",
    "for i in range(1,len(report_date_list)-1):\n",
    "    # i = 1,2,3\n",
    "    print(report_date_list[i])\n",
    "    f.get_table_for_reg(fundid,report_date_list,i,fund_value,hs300)"
   ]
  },
  {
   "cell_type": "code",
   "execution_count": null,
   "metadata": {},
   "outputs": [],
   "source": [
    "# create a file for saving result\n",
    "with open('result.csv', \"w\", newline='') as f:\n",
    "    writer = csv.writer(f)\n",
    "    writer.writerow(['fundid','date',    'reg',         'train_r2','test_r2','train_var','test_var','test_var1','test_var2','ratio','disc','comments','coef','intercept'])\n",
    "    f.close()"
   ]
  },
  {
   "cell_type": "code",
   "execution_count": null,
   "metadata": {},
   "outputs": [],
   "source": [
    "for i in range(1,len(report_date_list)-1):\n",
    "    fund_value = pd.read_csv(\"reg_\"+fundid+\"_\"+report_date_list[i]+\".csv\")\n",
    "    fund_value.set_index(keys = 'date',inplace=True)\n",
    "    report_date = report_date_list[i]\n",
    "    start_date =report_date_list[i-1]\n",
    "    end_date = report_date_list[i+1]\n",
    "\n",
    "    stocks_details= pd.read_csv(fundid+\"_\"+report_date_list[i]+\".csv\")\n",
    "    report_date_fund_value = stocks_details['fund_value'][0]/(stocks_details['ratio'][0]/100)\n",
    "    ratio = stocks_details['fund_value'].sum()/report_date_fund_value\n",
    "\n",
    "    if 'dist' in fund_value.columns:\n",
    "        pass\n",
    "    else:\n",
    "        fund_value['dist'] = np.arange(0,len(fund_value),1)\n",
    "        temp = fund_value.loc[report_date ,'dist']\n",
    "        pos = len(fund_value.loc[:report_date])\n",
    "        fund_value['dist'][pos:] =fund_value['dist'][pos:].apply(lambda x:x-temp)\n",
    "        fund_value['dist'][:pos ] =fund_value['dist'][:pos ].apply(lambda x:temp-x)\n",
    "        print(\"save\")\n",
    "        fund_value.to_csv(\"reg_\"+fundid+\"_\"+report_date_list[i]+\".csv\",index = True ,index_label = 'date')\n",
    "\n",
    "    mydf =fund_value[['daily_return','stocks_daily_return','hs300_daily_return','dist']].copy()\n",
    "    mydf.dropna(inplace = True)\n",
    "\n",
    "    x_list = ['stocks_daily_return','hs300_daily_return']\n",
    "    comments = 'n'\n",
    "    disc1 = 1\n",
    "    ratio1 = 1\n",
    "    f.reg_sk(mydf.copy(),x_list,comments,disc1,fundid,report_date,ratio1)\n",
    "\n",
    "    x_list = ['c_stocks_daily_return','c_hs300_daily_return']\n",
    "    comments = 'c'\n",
    "    for disc in [0.98,0.985,0.99,0.995]:\n",
    "        print(report_date,disc)\n",
    "        f.reg_sk(mydf.copy(),x_list,comments,disc,fundid,report_date,ratio)"
   ]
  },
  {
   "cell_type": "code",
   "execution_count": null,
   "metadata": {},
   "outputs": [],
   "source": []
  }
 ],
 "metadata": {
  "kernelspec": {
   "display_name": "Python 3",
   "language": "python",
   "name": "python3"
  },
  "language_info": {
   "codemirror_mode": {
    "name": "ipython",
    "version": 3
   },
   "file_extension": ".py",
   "mimetype": "text/x-python",
   "name": "python",
   "nbconvert_exporter": "python",
   "pygments_lexer": "ipython3",
   "version": "3.7.6"
  }
 },
 "nbformat": 4,
 "nbformat_minor": 4
}
