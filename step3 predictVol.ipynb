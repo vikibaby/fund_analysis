{
 "cells": [
  {
   "cell_type": "code",
   "execution_count": 1,
   "metadata": {},
   "outputs": [],
   "source": [
    "import matplotlib.pyplot as plt\n",
    "import numpy as np\n",
    "import pandas as pd\n",
    "from sklearn import datasets, linear_model\n",
    "import cmath \n",
    "import csv\n",
    "import baostock as bs"
   ]
  },
  {
   "cell_type": "markdown",
   "metadata": {},
   "source": [
    "# fun"
   ]
  },
  {
   "cell_type": "code",
   "execution_count": 5,
   "metadata": {},
   "outputs": [],
   "source": [
    "def loading_prices(stocks_id_str,start_date,end_date):\n",
    "        k_data_df = pd.DataFrame()\n",
    "        rs = bs.query_history_k_data_plus(stocks_id_str,\"date,close\",start_date=start_date, end_date=end_date, frequency=\"d\", adjustflag=\"3\")\n",
    "        k_data_df = k_data_df.append(rs.get_data())\n",
    "        k_data_df.set_index(keys = 'date',inplace=True)\n",
    "        k_data_df['close'] = k_data_df['close'].astype('float')\n",
    "        k_data_df.rename(columns={\"close\": stocks_id_str},inplace=True)\n",
    "        return k_data_df\n",
    "    \n",
    "def load_stocks_prices(stocks_id,start_date,end_date):\n",
    "    history_df = pd.DataFrame()\n",
    "    lg = bs.login()\n",
    "    for i in stocks_id:\n",
    "        #print(i)\n",
    "        k_data_df = loading_prices(i,start_date,end_date)\n",
    "        history_df = pd.concat([history_df,k_data_df],axis=1)\n",
    "    bs.logout()\n",
    "    return history_df"
   ]
  },
  {
   "cell_type": "markdown",
   "metadata": {},
   "source": [
    "# loading and preview data"
   ]
  },
  {
   "cell_type": "code",
   "execution_count": 2,
   "metadata": {},
   "outputs": [],
   "source": [
    "fundid = 'fund000404'\n",
    "reprort_date = ['2019-09-30','2019-12-31','2020-03-31','2020-06-30','2020-08-24']"
   ]
  },
  {
   "cell_type": "code",
   "execution_count": 219,
   "metadata": {},
   "outputs": [
    {
     "data": {
      "text/html": [
       "<div>\n",
       "<style scoped>\n",
       "    .dataframe tbody tr th:only-of-type {\n",
       "        vertical-align: middle;\n",
       "    }\n",
       "\n",
       "    .dataframe tbody tr th {\n",
       "        vertical-align: top;\n",
       "    }\n",
       "\n",
       "    .dataframe thead th {\n",
       "        text-align: right;\n",
       "    }\n",
       "</style>\n",
       "<table border=\"1\" class=\"dataframe\">\n",
       "  <thead>\n",
       "    <tr style=\"text-align: right;\">\n",
       "      <th></th>\n",
       "      <th>stocks_unit_value</th>\n",
       "      <th>unit_net_value</th>\n",
       "      <th>cum_net_value</th>\n",
       "      <th>daily_return</th>\n",
       "      <th>subscription_status</th>\n",
       "      <th>redemption_status</th>\n",
       "      <th>dividend</th>\n",
       "      <th>sh.000300</th>\n",
       "      <th>hs300_daily_return</th>\n",
       "      <th>stocks_daily_return</th>\n",
       "      <th>dist</th>\n",
       "    </tr>\n",
       "    <tr>\n",
       "      <th>date</th>\n",
       "      <th></th>\n",
       "      <th></th>\n",
       "      <th></th>\n",
       "      <th></th>\n",
       "      <th></th>\n",
       "      <th></th>\n",
       "      <th></th>\n",
       "      <th></th>\n",
       "      <th></th>\n",
       "      <th></th>\n",
       "      <th></th>\n",
       "    </tr>\n",
       "  </thead>\n",
       "  <tbody>\n",
       "    <tr>\n",
       "      <th>2019-12-31</th>\n",
       "      <td>3.479516e+09</td>\n",
       "      <td>2.924</td>\n",
       "      <td>2.924</td>\n",
       "      <td>0.27</td>\n",
       "      <td>True</td>\n",
       "      <td>True</td>\n",
       "      <td>NaN</td>\n",
       "      <td>4096.582</td>\n",
       "      <td>NaN</td>\n",
       "      <td>NaN</td>\n",
       "      <td>58</td>\n",
       "    </tr>\n",
       "    <tr>\n",
       "      <th>2020-01-02</th>\n",
       "      <td>3.568643e+09</td>\n",
       "      <td>3.001</td>\n",
       "      <td>3.001</td>\n",
       "      <td>2.63</td>\n",
       "      <td>True</td>\n",
       "      <td>True</td>\n",
       "      <td>NaN</td>\n",
       "      <td>4152.240</td>\n",
       "      <td>1.358645</td>\n",
       "      <td>2.561478</td>\n",
       "      <td>57</td>\n",
       "    </tr>\n",
       "  </tbody>\n",
       "</table>\n",
       "</div>"
      ],
      "text/plain": [
       "            stocks_unit_value  unit_net_value  cum_net_value  daily_return  \\\n",
       "date                                                                         \n",
       "2019-12-31       3.479516e+09           2.924          2.924          0.27   \n",
       "2020-01-02       3.568643e+09           3.001          3.001          2.63   \n",
       "\n",
       "            subscription_status  redemption_status  dividend  sh.000300  \\\n",
       "date                                                                      \n",
       "2019-12-31                 True               True       NaN   4096.582   \n",
       "2020-01-02                 True               True       NaN   4152.240   \n",
       "\n",
       "            hs300_daily_return  stocks_daily_return  dist  \n",
       "date                                                       \n",
       "2019-12-31                 NaN                  NaN    58  \n",
       "2020-01-02            1.358645             2.561478    57  "
      ]
     },
     "execution_count": 219,
     "metadata": {},
     "output_type": "execute_result"
    }
   ],
   "source": [
    "reg_df = pd.read_csv(\"reg_fund000404_2020-03-31.csv\")\n",
    "reg_df.set_index(keys = 'date',inplace=True)\n",
    "reg_df.head(2)"
   ]
  },
  {
   "cell_type": "code",
   "execution_count": 215,
   "metadata": {},
   "outputs": [
    {
     "data": {
      "text/html": [
       "<div>\n",
       "<style scoped>\n",
       "    .dataframe tbody tr th:only-of-type {\n",
       "        vertical-align: middle;\n",
       "    }\n",
       "\n",
       "    .dataframe tbody tr th {\n",
       "        vertical-align: top;\n",
       "    }\n",
       "\n",
       "    .dataframe thead th {\n",
       "        text-align: right;\n",
       "    }\n",
       "</style>\n",
       "<table border=\"1\" class=\"dataframe\">\n",
       "  <thead>\n",
       "    <tr style=\"text-align: right;\">\n",
       "      <th></th>\n",
       "      <th>fundid</th>\n",
       "      <th>date</th>\n",
       "      <th>reg</th>\n",
       "      <th>train_r2</th>\n",
       "      <th>test_r2</th>\n",
       "      <th>train_var</th>\n",
       "      <th>test_var</th>\n",
       "      <th>test_var1</th>\n",
       "      <th>test_var2</th>\n",
       "      <th>ratio</th>\n",
       "      <th>disc</th>\n",
       "      <th>comments</th>\n",
       "      <th>coef</th>\n",
       "      <th>intercept</th>\n",
       "    </tr>\n",
       "  </thead>\n",
       "  <tbody>\n",
       "    <tr>\n",
       "      <th>0</th>\n",
       "      <td>fund000404</td>\n",
       "      <td>2019-12-31</td>\n",
       "      <td>daily_return</td>\n",
       "      <td>0.909691</td>\n",
       "      <td>0.965560</td>\n",
       "      <td>0.054609</td>\n",
       "      <td>0.062405</td>\n",
       "      <td>0.069116</td>\n",
       "      <td>0.102950</td>\n",
       "      <td>1.000000</td>\n",
       "      <td>1.00</td>\n",
       "      <td>n</td>\n",
       "      <td>[0.83006128 0.14928801]</td>\n",
       "      <td>0.038142</td>\n",
       "    </tr>\n",
       "    <tr>\n",
       "      <th>1</th>\n",
       "      <td>fund000404</td>\n",
       "      <td>2019-12-31</td>\n",
       "      <td>daily_return</td>\n",
       "      <td>0.875264</td>\n",
       "      <td>0.946744</td>\n",
       "      <td>0.064179</td>\n",
       "      <td>0.077602</td>\n",
       "      <td>0.129012</td>\n",
       "      <td>0.087973</td>\n",
       "      <td>0.857533</td>\n",
       "      <td>0.98</td>\n",
       "      <td>c</td>\n",
       "      <td>[1.49270725 0.55458131]</td>\n",
       "      <td>0.013085</td>\n",
       "    </tr>\n",
       "  </tbody>\n",
       "</table>\n",
       "</div>"
      ],
      "text/plain": [
       "       fundid        date           reg  train_r2   test_r2  train_var  \\\n",
       "0  fund000404  2019-12-31  daily_return  0.909691  0.965560   0.054609   \n",
       "1  fund000404  2019-12-31  daily_return  0.875264  0.946744   0.064179   \n",
       "\n",
       "   test_var  test_var1  test_var2     ratio  disc comments  \\\n",
       "0  0.062405   0.069116   0.102950  1.000000  1.00        n   \n",
       "1  0.077602   0.129012   0.087973  0.857533  0.98        c   \n",
       "\n",
       "                      coef  intercept  \n",
       "0  [0.83006128 0.14928801]   0.038142  \n",
       "1  [1.49270725 0.55458131]   0.013085  "
      ]
     },
     "execution_count": 215,
     "metadata": {},
     "output_type": "execute_result"
    }
   ],
   "source": [
    "result_df = pd.read_csv('result.csv')\n",
    "result_df.head(2)"
   ]
  },
  {
   "cell_type": "code",
   "execution_count": 7,
   "metadata": {},
   "outputs": [
    {
     "data": {
      "text/html": [
       "<div>\n",
       "<style scoped>\n",
       "    .dataframe tbody tr th:only-of-type {\n",
       "        vertical-align: middle;\n",
       "    }\n",
       "\n",
       "    .dataframe tbody tr th {\n",
       "        vertical-align: top;\n",
       "    }\n",
       "\n",
       "    .dataframe thead th {\n",
       "        text-align: right;\n",
       "    }\n",
       "</style>\n",
       "<table border=\"1\" class=\"dataframe\">\n",
       "  <thead>\n",
       "    <tr style=\"text-align: right;\">\n",
       "      <th></th>\n",
       "      <th>code_name</th>\n",
       "      <th>ratio</th>\n",
       "      <th>num_shares</th>\n",
       "      <th>fund_value</th>\n",
       "      <th>code</th>\n",
       "      <th>ipoDate</th>\n",
       "      <th>outDate</th>\n",
       "      <th>type</th>\n",
       "      <th>status</th>\n",
       "    </tr>\n",
       "  </thead>\n",
       "  <tbody>\n",
       "    <tr>\n",
       "      <th>3</th>\n",
       "      <td>壹网壹创</td>\n",
       "      <td>4.33</td>\n",
       "      <td>1236000.0</td>\n",
       "      <td>280569000.0</td>\n",
       "      <td>sz.300792</td>\n",
       "      <td>2019-09-27</td>\n",
       "      <td>NaN</td>\n",
       "      <td>1</td>\n",
       "      <td>1</td>\n",
       "    </tr>\n",
       "    <tr>\n",
       "      <th>10</th>\n",
       "      <td>值得买</td>\n",
       "      <td>2.87</td>\n",
       "      <td>1303000.0</td>\n",
       "      <td>185912300.0</td>\n",
       "      <td>sz.300785</td>\n",
       "      <td>2019-07-15</td>\n",
       "      <td>NaN</td>\n",
       "      <td>1</td>\n",
       "      <td>1</td>\n",
       "    </tr>\n",
       "    <tr>\n",
       "      <th>11</th>\n",
       "      <td>新媒股份</td>\n",
       "      <td>2.62</td>\n",
       "      <td>1099700.0</td>\n",
       "      <td>169357200.0</td>\n",
       "      <td>sz.300770</td>\n",
       "      <td>2019-04-19</td>\n",
       "      <td>NaN</td>\n",
       "      <td>1</td>\n",
       "      <td>1</td>\n",
       "    </tr>\n",
       "  </tbody>\n",
       "</table>\n",
       "</div>"
      ],
      "text/plain": [
       "   code_name  ratio  num_shares   fund_value       code     ipoDate  outDate  \\\n",
       "3       壹网壹创   4.33   1236000.0  280569000.0  sz.300792  2019-09-27      NaN   \n",
       "10       值得买   2.87   1303000.0  185912300.0  sz.300785  2019-07-15      NaN   \n",
       "11      新媒股份   2.62   1099700.0  169357200.0  sz.300770  2019-04-19      NaN   \n",
       "\n",
       "    type  status  \n",
       "3      1       1  \n",
       "10     1       1  \n",
       "11     1       1  "
      ]
     },
     "execution_count": 7,
     "metadata": {},
     "output_type": "execute_result"
    }
   ],
   "source": [
    "stocks_details= pd.read_csv(fundid+\"_\"+reprort_date[i]+\".csv\")\n",
    "stocks_details[stocks_details['ipoDate']>'2019-01-01']"
   ]
  },
  {
   "cell_type": "code",
   "execution_count": 240,
   "metadata": {
    "scrolled": true
   },
   "outputs": [
    {
     "data": {
      "text/html": [
       "<div>\n",
       "<style scoped>\n",
       "    .dataframe tbody tr th:only-of-type {\n",
       "        vertical-align: middle;\n",
       "    }\n",
       "\n",
       "    .dataframe tbody tr th {\n",
       "        vertical-align: top;\n",
       "    }\n",
       "\n",
       "    .dataframe thead th {\n",
       "        text-align: right;\n",
       "    }\n",
       "</style>\n",
       "<table border=\"1\" class=\"dataframe\">\n",
       "  <thead>\n",
       "    <tr style=\"text-align: right;\">\n",
       "      <th></th>\n",
       "      <th>code_name</th>\n",
       "      <th>ratio</th>\n",
       "      <th>num_shares</th>\n",
       "      <th>fund_value</th>\n",
       "      <th>code</th>\n",
       "      <th>ipoDate</th>\n",
       "      <th>outDate</th>\n",
       "      <th>type</th>\n",
       "      <th>status</th>\n",
       "    </tr>\n",
       "  </thead>\n",
       "  <tbody>\n",
       "    <tr>\n",
       "      <th>0</th>\n",
       "      <td>卫宁健康</td>\n",
       "      <td>9.54</td>\n",
       "      <td>29446800.0</td>\n",
       "      <td>617499300.0</td>\n",
       "      <td>sz.300253</td>\n",
       "      <td>2011-08-18</td>\n",
       "      <td>NaN</td>\n",
       "      <td>1</td>\n",
       "      <td>1</td>\n",
       "    </tr>\n",
       "    <tr>\n",
       "      <th>1</th>\n",
       "      <td>三花智控</td>\n",
       "      <td>7.51</td>\n",
       "      <td>30242800.0</td>\n",
       "      <td>486002500.0</td>\n",
       "      <td>sz.002050</td>\n",
       "      <td>2005-06-07</td>\n",
       "      <td>NaN</td>\n",
       "      <td>1</td>\n",
       "      <td>1</td>\n",
       "    </tr>\n",
       "  </tbody>\n",
       "</table>\n",
       "</div>"
      ],
      "text/plain": [
       "  code_name  ratio  num_shares   fund_value       code     ipoDate  outDate  \\\n",
       "0      卫宁健康   9.54  29446800.0  617499300.0  sz.300253  2011-08-18      NaN   \n",
       "1      三花智控   7.51  30242800.0  486002500.0  sz.002050  2005-06-07      NaN   \n",
       "\n",
       "   type  status  \n",
       "0     1       1  \n",
       "1     1       1  "
      ]
     },
     "execution_count": 240,
     "metadata": {},
     "output_type": "execute_result"
    }
   ],
   "source": [
    "stocks_details.head(2)"
   ]
  },
  {
   "cell_type": "code",
   "execution_count": 241,
   "metadata": {
    "scrolled": true
   },
   "outputs": [
    {
     "data": {
      "text/plain": [
       "6472738993.710692"
      ]
     },
     "execution_count": 241,
     "metadata": {},
     "output_type": "execute_result"
    }
   ],
   "source": [
    "report_date_fund_value = stocks_details['fund_value'][0]/(stocks_details['ratio'][0]/100)"
   ]
  },
  {
   "cell_type": "code",
   "execution_count": 249,
   "metadata": {
    "scrolled": false
   },
   "outputs": [
    {
     "data": {
      "text/plain": [
       "(0.5732, 0.5732828256485472)"
      ]
     },
     "execution_count": 249,
     "metadata": {},
     "output_type": "execute_result"
    }
   ],
   "source": [
    "ratio_at_fund  = stocks_details['fund_value']/report_date_fund_value  # ==stocks_details['ratio']\n",
    "stocks_details['ratio'].sum()/100,ratio_at_fund.sum()"
   ]
  },
  {
   "cell_type": "code",
   "execution_count": 248,
   "metadata": {},
   "outputs": [],
   "source": [
    "ratio_at_pro = ratio_at_fund /ratio_at_fund.sum()"
   ]
  },
  {
   "cell_type": "markdown",
   "metadata": {},
   "source": [
    "# Input1: return of basic stock "
   ]
  },
  {
   "cell_type": "code",
   "execution_count": 153,
   "metadata": {},
   "outputs": [],
   "source": [
    "df = pd.read_csv(\"hs300_2019-01-01.csv\")\n",
    "df.set_index(keys = 'date',inplace=True)"
   ]
  },
  {
   "cell_type": "code",
   "execution_count": 213,
   "metadata": {},
   "outputs": [
    {
     "data": {
      "text/html": [
       "<div>\n",
       "<style scoped>\n",
       "    .dataframe tbody tr th:only-of-type {\n",
       "        vertical-align: middle;\n",
       "    }\n",
       "\n",
       "    .dataframe tbody tr th {\n",
       "        vertical-align: top;\n",
       "    }\n",
       "\n",
       "    .dataframe thead th {\n",
       "        text-align: right;\n",
       "    }\n",
       "</style>\n",
       "<table border=\"1\" class=\"dataframe\">\n",
       "  <thead>\n",
       "    <tr style=\"text-align: right;\">\n",
       "      <th></th>\n",
       "      <th>sh.000300</th>\n",
       "    </tr>\n",
       "    <tr>\n",
       "      <th>date</th>\n",
       "      <th></th>\n",
       "    </tr>\n",
       "  </thead>\n",
       "  <tbody>\n",
       "    <tr>\n",
       "      <th>2019-01-02</th>\n",
       "      <td>2969.535</td>\n",
       "    </tr>\n",
       "    <tr>\n",
       "      <th>2019-01-03</th>\n",
       "      <td>2964.842</td>\n",
       "    </tr>\n",
       "    <tr>\n",
       "      <th>2019-01-04</th>\n",
       "      <td>3035.874</td>\n",
       "    </tr>\n",
       "    <tr>\n",
       "      <th>2019-01-07</th>\n",
       "      <td>3054.303</td>\n",
       "    </tr>\n",
       "  </tbody>\n",
       "</table>\n",
       "</div>"
      ],
      "text/plain": [
       "            sh.000300\n",
       "date                 \n",
       "2019-01-02   2969.535\n",
       "2019-01-03   2964.842\n",
       "2019-01-04   3035.874\n",
       "2019-01-07   3054.303"
      ]
     },
     "execution_count": 213,
     "metadata": {},
     "output_type": "execute_result"
    }
   ],
   "source": [
    "df.head(4)"
   ]
  },
  {
   "cell_type": "code",
   "execution_count": 190,
   "metadata": {},
   "outputs": [],
   "source": [
    "df_return = (df-df.shift(1))/df.shift(1)\n",
    "hs = df_return ['2020-01-01':'2020-03-31'].values"
   ]
  },
  {
   "cell_type": "code",
   "execution_count": 192,
   "metadata": {},
   "outputs": [
    {
     "data": {
      "text/plain": [
       "0.3075949906782444"
      ]
     },
     "execution_count": 192,
     "metadata": {},
     "output_type": "execute_result"
    }
   ],
   "source": [
    "np.sqrt(hs.var()),np.std(hs)\n",
    "vol_year_hs= np.sqrt(hs.var()*252)\n",
    "vol_daily_hs = np.sqrt(hs.var())\n",
    "vol_year_hs #0.3075949906782444"
   ]
  },
  {
   "cell_type": "markdown",
   "metadata": {},
   "source": [
    "# input2: return of profolio (breakdown)"
   ]
  },
  {
   "cell_type": "code",
   "execution_count": 277,
   "metadata": {},
   "outputs": [],
   "source": [
    "#history = load_stocks_prices(stocks_details['code'],stocks_details['ipoDate'].max(),reprort_date[i])\n",
    "data = history.copy()\n",
    "logrets = np.log(data / data.shift(1))\n",
    "logrets = logrets['2020-01-01':'2020-03-31']\n",
    "rets = (data-data.shift(1))/data.shift(1)\n",
    "rets = rets['2020-01-01':'2020-03-31']"
   ]
  },
  {
   "cell_type": "code",
   "execution_count": 331,
   "metadata": {},
   "outputs": [
    {
     "name": "stdout",
     "output_type": "stream",
     "text": [
      "yearly: 0.4750516777959708 combined\n"
     ]
    }
   ],
   "source": [
    "# breakdown of profolio\n",
    "weights = ratio_at_pro\n",
    "vol_yearly_pro =  np.sqrt(np.dot(weights.T, np.dot(rets.cov() * 252, weights)))\n",
    "print(\"yearly:\",vol_yearly_pro ,\"combined\")"
   ]
  },
  {
   "cell_type": "code",
   "execution_count": 264,
   "metadata": {},
   "outputs": [
    {
     "data": {
      "text/html": [
       "<div>\n",
       "<style scoped>\n",
       "    .dataframe tbody tr th:only-of-type {\n",
       "        vertical-align: middle;\n",
       "    }\n",
       "\n",
       "    .dataframe tbody tr th {\n",
       "        vertical-align: top;\n",
       "    }\n",
       "\n",
       "    .dataframe thead th {\n",
       "        text-align: right;\n",
       "    }\n",
       "</style>\n",
       "<table border=\"1\" class=\"dataframe\">\n",
       "  <thead>\n",
       "    <tr style=\"text-align: right;\">\n",
       "      <th></th>\n",
       "      <th>sz.300253</th>\n",
       "      <th>sz.002050</th>\n",
       "      <th>sz.300750</th>\n",
       "      <th>sz.300792</th>\n",
       "      <th>sz.002850</th>\n",
       "      <th>sz.300496</th>\n",
       "      <th>sz.002120</th>\n",
       "      <th>sz.300413</th>\n",
       "      <th>sh.600276</th>\n",
       "      <th>sz.300207</th>\n",
       "      <th>sz.300785</th>\n",
       "      <th>sz.300770</th>\n",
       "      <th>sz.300226</th>\n",
       "      <th>sz.300662</th>\n",
       "    </tr>\n",
       "    <tr>\n",
       "      <th>date</th>\n",
       "      <th></th>\n",
       "      <th></th>\n",
       "      <th></th>\n",
       "      <th></th>\n",
       "      <th></th>\n",
       "      <th></th>\n",
       "      <th></th>\n",
       "      <th></th>\n",
       "      <th></th>\n",
       "      <th></th>\n",
       "      <th></th>\n",
       "      <th></th>\n",
       "      <th></th>\n",
       "      <th></th>\n",
       "    </tr>\n",
       "  </thead>\n",
       "  <tbody>\n",
       "    <tr>\n",
       "      <th>2020-01-02</th>\n",
       "      <td>0.010681</td>\n",
       "      <td>0.016157</td>\n",
       "      <td>0.010526</td>\n",
       "      <td>0.100017</td>\n",
       "      <td>-0.009670</td>\n",
       "      <td>0.027470</td>\n",
       "      <td>-0.011111</td>\n",
       "      <td>0.100114</td>\n",
       "      <td>0.001828</td>\n",
       "      <td>0.031762</td>\n",
       "      <td>0.099986</td>\n",
       "      <td>0.052692</td>\n",
       "      <td>0.001542</td>\n",
       "      <td>-0.018874</td>\n",
       "    </tr>\n",
       "    <tr>\n",
       "      <th>2020-01-03</th>\n",
       "      <td>0.001982</td>\n",
       "      <td>0.023282</td>\n",
       "      <td>0.018880</td>\n",
       "      <td>-0.001750</td>\n",
       "      <td>0.005992</td>\n",
       "      <td>-0.005821</td>\n",
       "      <td>-0.015184</td>\n",
       "      <td>0.023141</td>\n",
       "      <td>-0.019731</td>\n",
       "      <td>-0.015392</td>\n",
       "      <td>-0.021588</td>\n",
       "      <td>-0.001169</td>\n",
       "      <td>0.031828</td>\n",
       "      <td>-0.006733</td>\n",
       "    </tr>\n",
       "  </tbody>\n",
       "</table>\n",
       "</div>"
      ],
      "text/plain": [
       "            sz.300253  sz.002050  sz.300750  sz.300792  sz.002850  sz.300496  \\\n",
       "date                                                                           \n",
       "2020-01-02   0.010681   0.016157   0.010526   0.100017  -0.009670   0.027470   \n",
       "2020-01-03   0.001982   0.023282   0.018880  -0.001750   0.005992  -0.005821   \n",
       "\n",
       "            sz.002120  sz.300413  sh.600276  sz.300207  sz.300785  sz.300770  \\\n",
       "date                                                                           \n",
       "2020-01-02  -0.011111   0.100114   0.001828   0.031762   0.099986   0.052692   \n",
       "2020-01-03  -0.015184   0.023141  -0.019731  -0.015392  -0.021588  -0.001169   \n",
       "\n",
       "            sz.300226  sz.300662  \n",
       "date                              \n",
       "2020-01-02   0.001542  -0.018874  \n",
       "2020-01-03   0.031828  -0.006733  "
      ]
     },
     "execution_count": 264,
     "metadata": {},
     "output_type": "execute_result"
    }
   ],
   "source": [
    "rets.head(2)"
   ]
  },
  {
   "cell_type": "markdown",
   "metadata": {},
   "source": [
    "# Supposed output: vol of fund"
   ]
  },
  {
   "cell_type": "code",
   "execution_count": 143,
   "metadata": {},
   "outputs": [
    {
     "data": {
      "text/html": [
       "<div>\n",
       "<style scoped>\n",
       "    .dataframe tbody tr th:only-of-type {\n",
       "        vertical-align: middle;\n",
       "    }\n",
       "\n",
       "    .dataframe tbody tr th {\n",
       "        vertical-align: top;\n",
       "    }\n",
       "\n",
       "    .dataframe thead th {\n",
       "        text-align: right;\n",
       "    }\n",
       "</style>\n",
       "<table border=\"1\" class=\"dataframe\">\n",
       "  <thead>\n",
       "    <tr style=\"text-align: right;\">\n",
       "      <th></th>\n",
       "      <th>unit_net_value</th>\n",
       "      <th>cum_net_value</th>\n",
       "      <th>daily_return</th>\n",
       "      <th>subscription_status</th>\n",
       "      <th>redemption_status</th>\n",
       "      <th>dividend</th>\n",
       "    </tr>\n",
       "    <tr>\n",
       "      <th>date</th>\n",
       "      <th></th>\n",
       "      <th></th>\n",
       "      <th></th>\n",
       "      <th></th>\n",
       "      <th></th>\n",
       "      <th></th>\n",
       "    </tr>\n",
       "  </thead>\n",
       "  <tbody>\n",
       "    <tr>\n",
       "      <th>2019-09-30</th>\n",
       "      <td>2.408</td>\n",
       "      <td>2.408</td>\n",
       "      <td>-1.27</td>\n",
       "      <td>True</td>\n",
       "      <td>True</td>\n",
       "      <td>NaN</td>\n",
       "    </tr>\n",
       "    <tr>\n",
       "      <th>2019-10-08</th>\n",
       "      <td>2.357</td>\n",
       "      <td>2.357</td>\n",
       "      <td>-2.12</td>\n",
       "      <td>True</td>\n",
       "      <td>True</td>\n",
       "      <td>NaN</td>\n",
       "    </tr>\n",
       "    <tr>\n",
       "      <th>2019-10-09</th>\n",
       "      <td>2.381</td>\n",
       "      <td>2.381</td>\n",
       "      <td>1.02</td>\n",
       "      <td>True</td>\n",
       "      <td>True</td>\n",
       "      <td>NaN</td>\n",
       "    </tr>\n",
       "    <tr>\n",
       "      <th>2019-10-10</th>\n",
       "      <td>2.428</td>\n",
       "      <td>2.428</td>\n",
       "      <td>1.97</td>\n",
       "      <td>True</td>\n",
       "      <td>True</td>\n",
       "      <td>NaN</td>\n",
       "    </tr>\n",
       "    <tr>\n",
       "      <th>2019-10-11</th>\n",
       "      <td>2.406</td>\n",
       "      <td>2.406</td>\n",
       "      <td>-0.91</td>\n",
       "      <td>True</td>\n",
       "      <td>True</td>\n",
       "      <td>NaN</td>\n",
       "    </tr>\n",
       "  </tbody>\n",
       "</table>\n",
       "</div>"
      ],
      "text/plain": [
       "            unit_net_value  cum_net_value  daily_return  subscription_status  \\\n",
       "date                                                                           \n",
       "2019-09-30           2.408          2.408         -1.27                 True   \n",
       "2019-10-08           2.357          2.357         -2.12                 True   \n",
       "2019-10-09           2.381          2.381          1.02                 True   \n",
       "2019-10-10           2.428          2.428          1.97                 True   \n",
       "2019-10-11           2.406          2.406         -0.91                 True   \n",
       "\n",
       "            redemption_status  dividend  \n",
       "date                                     \n",
       "2019-09-30               True       NaN  \n",
       "2019-10-08               True       NaN  \n",
       "2019-10-09               True       NaN  \n",
       "2019-10-10               True       NaN  \n",
       "2019-10-11               True       NaN  "
      ]
     },
     "execution_count": 143,
     "metadata": {},
     "output_type": "execute_result"
    }
   ],
   "source": [
    "fund_value_file = \"value000404_2019-09-30.csv\"\n",
    "#_value = pd.read_csv(fund_value_file)\n",
    "#_value.set_index(keys = 'date',inplace=True)\n",
    "_value.head()"
   ]
  },
  {
   "cell_type": "code",
   "execution_count": 148,
   "metadata": {},
   "outputs": [
    {
     "data": {
      "text/plain": [
       "(0.026277385565073082, 0.026049871451044312)"
      ]
     },
     "execution_count": 148,
     "metadata": {},
     "output_type": "execute_result"
    }
   ],
   "source": [
    "#weight is \n",
    "b = _value['daily_return']['2020-01-01':'2020-03-31']/100\n",
    "np.sqrt(b.var()),np.std(b)"
   ]
  },
  {
   "cell_type": "code",
   "execution_count": 196,
   "metadata": {},
   "outputs": [
    {
     "name": "stdout",
     "output_type": "stream",
     "text": [
      "daily: 0.026280323708974252 0.026052784155991333\n"
     ]
    }
   ],
   "source": [
    "fund_price = _value['cum_net_value']\n",
    "fund_return = (fund_price-fund_price.shift(1))/fund_price.shift(1)\n",
    "fund_return  = fund_return ['2020-01-01':'2020-03-31']\n",
    "print(\"daily:\",np.sqrt(fund_return.var()),np.std(fund_return))\n",
    "vol_year_fund= np.sqrt(fund_return .var()*252)\n",
    "vol_daily_fund = np.sqrt(fund_return .var())"
   ]
  },
  {
   "cell_type": "code",
   "execution_count": 197,
   "metadata": {
    "scrolled": true
   },
   "outputs": [
    {
     "data": {
      "text/plain": [
       "0.41718720544932286"
      ]
     },
     "execution_count": 197,
     "metadata": {},
     "output_type": "execute_result"
    }
   ],
   "source": [
    "vol_year_fund"
   ]
  },
  {
   "cell_type": "markdown",
   "metadata": {},
   "source": [
    "# culculation"
   ]
  },
  {
   "cell_type": "markdown",
   "metadata": {},
   "source": [
    "#### coff read from results.csv"
   ]
  },
  {
   "cell_type": "code",
   "execution_count": null,
   "metadata": {},
   "outputs": [],
   "source": [
    "k1 = 0.7121081\n",
    "k2 = 0.2538479\n",
    "kk1 = k1/(k1+k2)\n",
    "kk2 = k2/(k1+k2)\n",
    "vol_year_hs #0.3075949906782444\n",
    "vol_yearly_pro # 0.4750516777959708\n",
    "vol_yearly_pro_combined #0.4842760072971121"
   ]
  },
  {
   "cell_type": "markdown",
   "metadata": {},
   "source": [
    "### calculate daily return of new profolio"
   ]
  },
  {
   "cell_type": "code",
   "execution_count": 315,
   "metadata": {},
   "outputs": [],
   "source": [
    "k1_ratio_at_pro = ratio_at_pro*k1\n",
    "kk1_ratio_at_pro = ratio_at_pro*kk1"
   ]
  },
  {
   "cell_type": "code",
   "execution_count": 303,
   "metadata": {},
   "outputs": [],
   "source": [
    "combine_return = pd.concat([rets, df_return ['2020-01-01':'2020-03-31']],axis=1)#df_return from hs300"
   ]
  },
  {
   "cell_type": "markdown",
   "metadata": {},
   "source": [
    "### supposed output "
   ]
  },
  {
   "cell_type": "code",
   "execution_count": 290,
   "metadata": {},
   "outputs": [
    {
     "data": {
      "text/plain": [
       "0.41718720544932286"
      ]
     },
     "execution_count": 290,
     "metadata": {},
     "output_type": "execute_result"
    }
   ],
   "source": [
    "vol_year_fund # 0.41718720544932286"
   ]
  },
  {
   "cell_type": "markdown",
   "metadata": {},
   "source": [
    "### predict output"
   ]
  },
  {
   "cell_type": "code",
   "execution_count": 326,
   "metadata": {},
   "outputs": [
    {
     "name": "stdout",
     "output_type": "stream",
     "text": [
      "1.0 0.41690171323527553\n"
     ]
    }
   ],
   "source": [
    "weights = np.append(kk1_ratio_at_pro,[kk2])\n",
    "print(weights.sum(),np.sqrt(np.dot(weights.T, np.dot(combine_return.cov() * 252, weights))))"
   ]
  }
 ],
 "metadata": {
  "kernelspec": {
   "display_name": "Python 3",
   "language": "python",
   "name": "python3"
  },
  "language_info": {
   "codemirror_mode": {
    "name": "ipython",
    "version": 3
   },
   "file_extension": ".py",
   "mimetype": "text/x-python",
   "name": "python",
   "nbconvert_exporter": "python",
   "pygments_lexer": "ipython3",
   "version": "3.7.6"
  }
 },
 "nbformat": 4,
 "nbformat_minor": 4
}
